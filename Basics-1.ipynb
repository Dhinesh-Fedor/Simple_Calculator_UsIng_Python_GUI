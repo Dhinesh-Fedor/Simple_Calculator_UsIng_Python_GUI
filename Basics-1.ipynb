{
  "nbformat": 4,
  "nbformat_minor": 0,
  "metadata": {
    "colab": {
      "provenance": [],
      "authorship_tag": "ABX9TyO9RKus+BEiMFnxqFgjd7zl",
      "include_colab_link": true
    },
    "kernelspec": {
      "name": "python3",
      "display_name": "Python 3"
    },
    "language_info": {
      "name": "python"
    }
  },
  "cells": [
    {
      "cell_type": "markdown",
      "metadata": {
        "id": "view-in-github",
        "colab_type": "text"
      },
      "source": [
        "<a href=\"https://colab.research.google.com/github/Dhinesh-Fedor/Simple_Desktop_Calculator_UsIng_Python_GUI/blob/main/Basics-1.ipynb\" target=\"_parent\"><img src=\"https://colab.research.google.com/assets/colab-badge.svg\" alt=\"Open In Colab\"/></a>"
      ]
    },
    {
      "cell_type": "code",
      "execution_count": null,
      "metadata": {
        "colab": {
          "base_uri": "https://localhost:8080/"
        },
        "id": "PznnRfpZrgd2",
        "outputId": "d821166c-3e0b-4200-b56c-dfdd47bb89b9"
      },
      "outputs": [
        {
          "output_type": "stream",
          "name": "stdout",
          "text": [
            "40\n",
            "-20\n",
            "300\n",
            "0.3333333333333333\n",
            "0\n",
            "10\n",
            "1000000000000000000000000000000\n",
            "True\n",
            "False\n",
            "False\n",
            "True\n",
            "False\n",
            "True\n",
            "False\n",
            "True\n",
            "False\n",
            "1\n",
            "7\n",
            "6\n",
            "-6\n",
            "2\n",
            "10\n"
          ]
        }
      ],
      "source": [
        "#arithmetic operators\n",
        "a=10\n",
        "b=30\n",
        "print(a+b)\n",
        "print(a-b)\n",
        "print(a*b)\n",
        "print(a/b)\n",
        "print(a//b)\n",
        "print(a%b)\n",
        "print(a**b)\n",
        "\n",
        "\n",
        "#comparison operators\n",
        "print(a<=b)\n",
        "print(a>=b)\n",
        "print(a==b)\n",
        "print(a!=b)\n",
        "print(a>b)\n",
        "print(a<b)\n",
        "\n",
        "\n",
        "x = True\n",
        "y = False\n",
        "#logical operators\n",
        "print(x and y)\n",
        "print(x or y)\n",
        "print(not x)\n",
        "\n",
        "\n",
        "c = 5\n",
        "d = 3\n",
        "#bitwise operators\n",
        "print(c & d)\n",
        "print(c | d)\n",
        "print(c ^ d)\n",
        "print(~c)\n",
        "print(c >> 1)\n",
        "print(c << 1)\n",
        "\n"
      ]
    }
  ]
}